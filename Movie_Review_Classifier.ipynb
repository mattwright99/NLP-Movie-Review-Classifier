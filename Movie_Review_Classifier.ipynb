{
 "cells": [
  {
   "cell_type": "code",
   "execution_count": 1,
   "metadata": {},
   "outputs": [],
   "source": [
    "import os\n",
    "import nltk"
   ]
  },
  {
   "cell_type": "code",
   "execution_count": 16,
   "metadata": {},
   "outputs": [
    {
     "name": "stdout",
     "output_type": "stream",
     "text": [
      "['abc', 'abc.zip', 'alpino', 'alpino.zip', 'biocreative_ppi', 'biocreative_ppi.zip', 'brown', 'brown.zip', 'brown_tei', 'brown_tei.zip', 'cess_cat', 'cess_cat.zip', 'cess_esp', 'cess_esp.zip', 'chat80', 'chat80.zip', 'city_database', 'city_database.zip', 'cmudict', 'cmudict.zip', 'comparative_sentences', 'comparative_sentences.zip', 'comtrans.zip', 'conll2000', 'conll2000.zip', 'conll2002', 'conll2002.zip', 'conll2007.zip', 'crubadan', 'crubadan.zip', 'dependency_treebank', 'dependency_treebank.zip', 'dolch', 'dolch.zip', 'europarl_raw', 'europarl_raw.zip', 'floresta', 'floresta.zip', 'framenet_v15', 'framenet_v15.zip', 'framenet_v17', 'framenet_v17.zip', 'gazetteers', 'gazetteers.zip', 'genesis', 'genesis.zip', 'gutenberg', 'gutenberg.zip', 'ieer', 'ieer.zip', 'inaugural', 'inaugural.zip', 'indian', 'indian.zip', 'jeita.zip', 'kimmo', 'kimmo.zip', 'knbc.zip', 'lin_thesaurus', 'lin_thesaurus.zip', 'machado.zip', 'mac_morpho', 'mac_morpho.zip', 'masc_tagged.zip', 'movie_reviews.zip', 'mte_teip5', 'mte_teip5.zip', 'names', 'names.zip', 'nombank.1.0.zip', 'nonbreaking_prefixes', 'nonbreaking_prefixes.zip', 'nps_chat', 'nps_chat.zip', 'omw', 'omw.zip', 'opinion_lexicon', 'opinion_lexicon.zip', 'panlex_swadesh.zip', 'paradigms', 'paradigms.zip', 'pil', 'pil.zip', 'pl196x', 'pl196x.zip', 'ppattach', 'ppattach.zip', 'problem_reports', 'problem_reports.zip', 'product_reviews_1', 'product_reviews_1.zip', 'product_reviews_2', 'product_reviews_2.zip', 'propbank.zip', 'pros_cons', 'pros_cons.zip', 'ptb', 'ptb.zip', 'qc', 'qc.zip', 'reuters.zip', 'rte', 'rte.zip', 'semcor.zip', 'senseval', 'senseval.zip', 'sentence_polarity', 'sentence_polarity.zip', 'sentiwordnet', 'sentiwordnet.zip', 'shakespeare', 'shakespeare.zip', 'sinica_treebank', 'sinica_treebank.zip', 'smultron', 'smultron.zip', 'state_union', 'state_union.zip', 'stopwords', 'stopwords.zip', 'subjectivity', 'subjectivity.zip', 'swadesh', 'swadesh.zip', 'switchboard', 'switchboard.zip', 'timit', 'timit.zip', 'toolbox', 'toolbox.zip', 'treebank', 'treebank.zip', 'twitter_samples', 'twitter_samples.zip', 'udhr', 'udhr.zip', 'udhr2', 'udhr2.zip', 'unicode_samples', 'unicode_samples.zip', 'universal_treebanks_v20.zip', 'verbnet', 'verbnet.zip', 'verbnet3', 'verbnet3.zip', 'webtext', 'webtext.zip', 'wordnet', 'wordnet.zip', 'wordnet_ic', 'wordnet_ic.zip', 'words', 'words.zip', 'ycoe', 'ycoe.zip']\n"
     ]
    }
   ],
   "source": [
    "print(os.listdir(nltk.data.find('corpora')))"
   ]
  },
  {
   "cell_type": "markdown",
   "metadata": {},
   "source": [
    "Movies are cool, lets check out that data set!"
   ]
  },
  {
   "cell_type": "code",
   "execution_count": 213,
   "metadata": {},
   "outputs": [
    {
     "name": "stdout",
     "output_type": "stream",
     "text": [
      "['neg', 'pos']\n"
     ]
    }
   ],
   "source": [
    "m_set = nltk.corpus.movie_reviews\n",
    "print(m_set.categories())"
   ]
  },
  {
   "cell_type": "code",
   "execution_count": 6,
   "metadata": {},
   "outputs": [
    {
     "name": "stdout",
     "output_type": "stream",
     "text": [
      "Number of reviews:\n",
      "Positive: 1000\n",
      "Negative: 1000\n"
     ]
    }
   ],
   "source": [
    "# Group positive and negative review file names\n",
    "fids_pos = m_set.fileids(categories='pos')\n",
    "fids_neg = m_set.fileids(categories='neg')\n",
    "\n",
    "n_pos = len(fids_pos)\n",
    "n_neg = len(fids_neg)\n",
    "\n",
    "print('Number of reviews:')\n",
    "print('Positive: ' + str(n_pos))\n",
    "print('Negative: ' + str(n_neg))\n",
    "\n",
    "# Store reviews\n",
    "reviews_pos = [m_set.open(file).read() for file in fids_pos]\n",
    "reviews_neg = [m_set.open(file).read() for file in fids_neg]"
   ]
  },
  {
   "cell_type": "code",
   "execution_count": 8,
   "metadata": {},
   "outputs": [],
   "source": [
    "import pandas as pd"
   ]
  },
  {
   "cell_type": "code",
   "execution_count": 138,
   "metadata": {},
   "outputs": [
    {
     "data": {
      "text/html": [
       "<div>\n",
       "<style scoped>\n",
       "    .dataframe tbody tr th:only-of-type {\n",
       "        vertical-align: middle;\n",
       "    }\n",
       "\n",
       "    .dataframe tbody tr th {\n",
       "        vertical-align: top;\n",
       "    }\n",
       "\n",
       "    .dataframe thead th {\n",
       "        text-align: right;\n",
       "    }\n",
       "</style>\n",
       "<table border=\"1\" class=\"dataframe\">\n",
       "  <thead>\n",
       "    <tr style=\"text-align: right;\">\n",
       "      <th></th>\n",
       "      <th>Label</th>\n",
       "      <th>Review</th>\n",
       "      <th>Length</th>\n",
       "    </tr>\n",
       "  </thead>\n",
       "  <tbody>\n",
       "    <tr>\n",
       "      <th>0</th>\n",
       "      <td>neg</td>\n",
       "      <td>cashing in on the success of white men can't j...</td>\n",
       "      <td>2533</td>\n",
       "    </tr>\n",
       "    <tr>\n",
       "      <th>1</th>\n",
       "      <td>neg</td>\n",
       "      <td>for timing reasons having to do with baby sitt...</td>\n",
       "      <td>1256</td>\n",
       "    </tr>\n",
       "    <tr>\n",
       "      <th>2</th>\n",
       "      <td>pos</td>\n",
       "      <td>for those who associate italian cinema with fe...</td>\n",
       "      <td>3329</td>\n",
       "    </tr>\n",
       "    <tr>\n",
       "      <th>3</th>\n",
       "      <td>neg</td>\n",
       "      <td>the haunting , a film so confusing that it for...</td>\n",
       "      <td>4475</td>\n",
       "    </tr>\n",
       "    <tr>\n",
       "      <th>4</th>\n",
       "      <td>pos</td>\n",
       "      <td>it's terribly unfortunate that \" stir of echoe...</td>\n",
       "      <td>6092</td>\n",
       "    </tr>\n",
       "    <tr>\n",
       "      <th>...</th>\n",
       "      <td>...</td>\n",
       "      <td>...</td>\n",
       "      <td>...</td>\n",
       "    </tr>\n",
       "    <tr>\n",
       "      <th>1995</th>\n",
       "      <td>neg</td>\n",
       "      <td>capsule : a ham-handed and over/underwritten m...</td>\n",
       "      <td>5246</td>\n",
       "    </tr>\n",
       "    <tr>\n",
       "      <th>1996</th>\n",
       "      <td>pos</td>\n",
       "      <td>weir is well-respected in hollywood for turnin...</td>\n",
       "      <td>3225</td>\n",
       "    </tr>\n",
       "    <tr>\n",
       "      <th>1997</th>\n",
       "      <td>pos</td>\n",
       "      <td>apocalypse now , based on the novel \" hearts o...</td>\n",
       "      <td>2959</td>\n",
       "    </tr>\n",
       "    <tr>\n",
       "      <th>1998</th>\n",
       "      <td>neg</td>\n",
       "      <td>there should be a requirement that a potential...</td>\n",
       "      <td>7752</td>\n",
       "    </tr>\n",
       "    <tr>\n",
       "      <th>1999</th>\n",
       "      <td>pos</td>\n",
       "      <td>elizabeth is a potent historical drama set in ...</td>\n",
       "      <td>3248</td>\n",
       "    </tr>\n",
       "  </tbody>\n",
       "</table>\n",
       "<p>2000 rows × 3 columns</p>\n",
       "</div>"
      ],
      "text/plain": [
       "     Label                                             Review  Length\n",
       "0      neg  cashing in on the success of white men can't j...    2533\n",
       "1      neg  for timing reasons having to do with baby sitt...    1256\n",
       "2      pos  for those who associate italian cinema with fe...    3329\n",
       "3      neg  the haunting , a film so confusing that it for...    4475\n",
       "4      pos  it's terribly unfortunate that \" stir of echoe...    6092\n",
       "...    ...                                                ...     ...\n",
       "1995   neg  capsule : a ham-handed and over/underwritten m...    5246\n",
       "1996   pos  weir is well-respected in hollywood for turnin...    3225\n",
       "1997   pos  apocalypse now , based on the novel \" hearts o...    2959\n",
       "1998   neg  there should be a requirement that a potential...    7752\n",
       "1999   pos  elizabeth is a potent historical drama set in ...    3248\n",
       "\n",
       "[2000 rows x 3 columns]"
      ]
     },
     "execution_count": 138,
     "metadata": {},
     "output_type": "execute_result"
    }
   ],
   "source": [
    "# Build array of labels corresponding to the reviews\n",
    "labels = ['pos'] * len(reviews_pos) + ['neg'] * len(reviews_neg)\n",
    "\n",
    "# Compile all reviews in one set\n",
    "review_array = reviews_pos + reviews_neg\n",
    "\n",
    "# Make dataframe of reviews and labels\n",
    "reviews = pd.DataFrame(data=list(zip(labels,review_array)), columns=['Label', 'Review'])\n",
    "reviews['Length'] = reviews['Review'].apply(len)\n",
    "\n",
    "# Shuffle dataframe to randomize order of data\n",
    "reviews = reviews.sample(frac=1).reset_index(drop=True)\n",
    "reviews"
   ]
  },
  {
   "cell_type": "code",
   "execution_count": 139,
   "metadata": {},
   "outputs": [],
   "source": [
    "import matplotlib.pyplot as plt"
   ]
  },
  {
   "cell_type": "code",
   "execution_count": 140,
   "metadata": {},
   "outputs": [
    {
     "data": {
      "text/plain": [
       "Text(0.5, 1.0, 'Review Length Histogram')"
      ]
     },
     "execution_count": 140,
     "metadata": {},
     "output_type": "execute_result"
    },
    {
     "data": {
      "image/png": "[encoded data removed]",
      "text/plain": [
       "<Figure size 432x288 with 1 Axes>"
      ]
     },
     "metadata": {
      "needs_background": "light"
     },
     "output_type": "display_data"
    }
   ],
   "source": [
    "reviews['Length'].hist(bins=50)\n",
    "plt.xlabel('Review Length')\n",
    "plt.ylabel('Count')\n",
    "plt.title('Review Length Histogram')"
   ]
  },
  {
   "cell_type": "code",
   "execution_count": 214,
   "metadata": {},
   "outputs": [],
   "source": [
    "# TODO: histogram review lengths for positive and negative reviews"
   ]
  },
  {
   "cell_type": "code",
   "execution_count": 12,
   "metadata": {},
   "outputs": [],
   "source": [
    "from nltk.tokenize import RegexpTokenizer\n",
    "from nltk.corpus import stopwords "
   ]
  },
  {
   "cell_type": "code",
   "execution_count": 141,
   "metadata": {},
   "outputs": [],
   "source": [
    "# Remove punctuation and stop words from a message\n",
    "def process_reviews(review):\n",
    "    # Split reviews into tokens free of punctuation\n",
    "    char_tokenizer = RegexpTokenizer(r'\\w+')\n",
    "    no_punc = char_tokenizer.tokenize(review)\n",
    "    \n",
    "    # Remove common words like and, the, if, etc.\n",
    "    no_stopwords = [word for word in no_punc if word.lower() not in stopwords.words('english')]\n",
    "    return ' '.join(no_stopwords)"
   ]
  },
  {
   "cell_type": "code",
   "execution_count": 145,
   "metadata": {},
   "outputs": [
    {
     "name": "stdout",
     "output_type": "stream",
     "text": [
      "cashing in on the success of white men can't jump and the failure of most of their solo vehicles ( including the cowboy way and drop zone ) , wesley snipes and woody harrelson have reteamed , hoping that they can strike up the same success . \n",
      "sadly , if this dismal , cliche ridden and mind-numbingly boring action pic is anything to go by , they haven't got a chance in hell of even coming close . \n",
      "this time out , the duo play foster brothers who are transit cops . \n",
      "following several run-ins with their tyrannical boss ( robert blake ) , who is obsessed with the \" money train \" --a train which carries all the subway's takings--and will let nothing stop it ( now * there's * an original plot device ) , harrelson's character decides to try and take off with the cash . \n",
      "along the way , both of them fall in love with the same woman--another transit cop who also hates her boss . \n",
      "this leads to the typical sibling rivalry crap that you usually find in a film of this standard ( 'you were always the better brother' etc . etc . etc . ) , and doesn't help to add anything to the film . \n",
      "given a better script , better performers in supporting roles and a shorter running time ( the film almost went for two hours--or did it just feel like it ? ) , this film might ( and i mean * might * ) have turned out okay , but as it is , it is stocked with the worst action film cliches , whose only purpose appears to be to pad the film out to its painfully long running time . \n",
      "robert blake , who plays the evil boss , has got to be the most pathetic bad guy in film history ! \n",
      "he sounds like wayne newton , and appears to think the best way to appear evil is to have your eyes bulging as though they are about to burst out of their sockets ! \n",
      "but this is only one of money train's problems . \n",
      "if you look at the script as if it was an action film , it lacks originality and suspense . \n",
      "but if you try to look at it as if it were a heist film , it is even worse . \n",
      "the final robbery sequence is almost trivialised and the characters definitely ain't butch and sundance . \n",
      "the film isn't all bad though . \n",
      "snipes and harrelson , when they aren't using the dumb cliches that the script gives them , make an agreeable duo , and some of the stunt-work is indeed excellent . \n",
      "but good stunt-work cannot save a bottom-of-the-barrel action movie . \n",
      "if you're a really undemanding action freak , there's a chance you'll like this . \n",
      "but if you're looking for something original , or suspenseful , try somewhere else--i doubt you'll find it here . \n",
      "\n"
     ]
    }
   ],
   "source": [
    "print(reviews['Review'][0])"
   ]
  },
  {
   "cell_type": "markdown",
   "metadata": {},
   "source": [
    "Harsh review. Looks rather wordy and difficult to read. Let's clean it up! "
   ]
  },
  {
   "cell_type": "code",
   "execution_count": 143,
   "metadata": {},
   "outputs": [
    {
     "name": "stdout",
     "output_type": "stream",
     "text": [
      "cashing success white men jump failure solo vehicles including cowboy way drop zone wesley snipes woody harrelson reteamed hoping strike success sadly dismal cliche ridden mind numbingly boring action pic anything go got chance hell even coming close time duo play foster brothers transit cops following several run ins tyrannical boss robert blake obsessed money train train carries subway takings let nothing stop original plot device harrelson character decides try take cash along way fall love woman another transit cop also hates boss leads typical sibling rivalry crap usually find film standard always better brother etc etc etc help add anything film given better script better performers supporting roles shorter running time film almost went two hours feel like film might mean might turned okay stocked worst action film cliches whose purpose appears pad film painfully long running time robert blake plays evil boss got pathetic bad guy film history sounds like wayne newton appears think best way appear evil eyes bulging though burst sockets one money train problems look script action film lacks originality suspense try look heist film even worse final robbery sequence almost trivialised characters definitely butch sundance film bad though snipes harrelson using dumb cliches script gives make agreeable duo stunt work indeed excellent good stunt work cannot save bottom barrel action movie really undemanding action freak chance like looking something original suspenseful try somewhere else doubt find\n"
     ]
    }
   ],
   "source": [
    "reviews_clean = reviews['Review'].apply(process_reviews)\n",
    "print(reviews_clean[0])"
   ]
  },
  {
   "cell_type": "code",
   "execution_count": 146,
   "metadata": {},
   "outputs": [],
   "source": [
    "from sklearn.feature_extraction.text import CountVectorizer\n",
    "from sklearn.feature_extraction.text import TfidfTransformer"
   ]
  },
  {
   "cell_type": "code",
   "execution_count": 147,
   "metadata": {},
   "outputs": [],
   "source": [
    "# Bag-of-words transformation\n",
    "vectorizer = CountVectorizer()\n",
    "reviews_bow = vectorizer.fit_transform(raw_documents=reviews_clean)\n",
    "\n",
    "# Normalize and weight document vectors using a Term Frequency-Inverse Document Frequency weighting\n",
    "tfidf_transformer = TfidfTransformer()\n",
    "reviews_tfidf = tfidf_transformer.fit_transform(reviews_bow)"
   ]
  },
  {
   "cell_type": "code",
   "execution_count": 188,
   "metadata": {},
   "outputs": [],
   "source": [
    "from sklearn.naive_bayes import MultinomialNB\n",
    "from sklearn.metrics import classification_report"
   ]
  },
  {
   "cell_type": "code",
   "execution_count": 209,
   "metadata": {},
   "outputs": [
    {
     "data": {
      "text/plain": [
       "MultinomialNB(alpha=1.0, class_prior=None, fit_prior=True)"
      ]
     },
     "execution_count": 209,
     "metadata": {},
     "output_type": "execute_result"
    }
   ],
   "source": [
    "# Slit into training and testing sets\n",
    "train_test_ratio = 0.25  \n",
    "n_train = round(train_test_ratio * (n_pos + n_neg))\n",
    "x_train = reviews_tfidf[:n_train]\n",
    "y_train = reviews['Label'][:n_train]\n",
    "\n",
    "x_test = reviews_tfidf[n_train:]\n",
    "y_test = reviews['Label'][n_train:]\n",
    "\n",
    "# Fit model - using a Niave Bayes classifier model\n",
    "model = MultinomialNB()\n",
    "model.fit(x_train, y_train)"
   ]
  },
  {
   "cell_type": "code",
   "execution_count": 210,
   "metadata": {},
   "outputs": [
    {
     "name": "stdout",
     "output_type": "stream",
     "text": [
      "Mean Accuracy: 75.87 %\n",
      "\n",
      "Classification Report: \n",
      "               precision    recall  f1-score   support\n",
      "\n",
      "         neg       0.73      0.83      0.77       746\n",
      "         pos       0.80      0.69      0.74       754\n",
      "\n",
      "    accuracy                           0.76      1500\n",
      "   macro avg       0.76      0.76      0.76      1500\n",
      "weighted avg       0.76      0.76      0.76      1500\n",
      "\n"
     ]
    }
   ],
   "source": [
    "# Evaluate model\n",
    "print('Mean Accuracy: {:.2f} %\\n'.format(model.score(x_test, y_test)*100))\n",
    "print ('Classification Report: \\n', classification_report(y_test, model.predict(x_test)))"
   ]
  },
  {
   "cell_type": "markdown",
   "metadata": {},
   "source": [
    "### Discussion\n",
    "As an initial attempt at my own NLP project I was very pleased with the results. However, there is certainly room for improvement and I will continue to work on my model. As far as preprocessing goes, there is a lot I could do to my data that I have not attempted yet. I will expand upon my bag of words normalization and begin exploring techniques such as stemming/lemmatization and distinguishing parts of speach. For my actual model, I will begin experimenting with some other classifiers (like support vector machines, for example) and see their performance with the data as well as. If all else fails I could always serch for additional datasets or scape my own!"
   ]
  }
 ],
 "metadata": {
  "kernelspec": {
   "display_name": "Python 3",
   "language": "python",
   "name": "python3"
  },
  "language_info": {
   "codemirror_mode": {
    "name": "ipython",
    "version": 3
   },
   "file_extension": ".py",
   "mimetype": "text/x-python",
   "name": "python",
   "nbconvert_exporter": "python",
   "pygments_lexer": "ipython3",
   "version": "3.7.4"
  }
 },
 "nbformat": 4,
 "nbformat_minor": 2
}
